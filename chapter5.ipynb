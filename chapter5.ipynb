{
 "cells": [
  {
   "cell_type": "code",
   "execution_count": 1,
   "metadata": {},
   "outputs": [],
   "source": [
    "import yfinance as yf\n",
    "import matplotlib.pyplot as plt"
   ]
  },
  {
   "cell_type": "code",
   "execution_count": null,
   "metadata": {},
   "outputs": [],
   "source": [
    "ticker  = 'AAPL '\n",
    "start_date = '2024-01-01'\n",
    "end_date = '2024-12-31'\n",
    "apple_df = yf.download(ticker, start=start_date, end=end_date)\n",
    "\n",
    "apple_df.head()"
   ]
  },
  {
   "cell_type": "code",
   "execution_count": null,
   "metadata": {},
   "outputs": [],
   "source": [
    "print(apple_df.Close.shape)\n",
    "print(apple_df['Volume'].shape)"
   ]
  },
  {
   "cell_type": "code",
   "execution_count": null,
   "metadata": {},
   "outputs": [],
   "source": [
    "import matplotlib.dates as mdates\n",
    "\n",
    "fig, ax = plt.subplots(2, 1, sharex=True, height_ratios=(2, 1))\n",
    "\n",
    "ax[0].plot(apple_df.index, apple_df['Close'].squeeze())\n",
    "ax[1].bar(apple_df.index, apple_df['Volume'].squeeze(), color='orange')\n",
    "\n",
    "ax[0].set_title('AAPL')\n",
    "ax[0].set_ylabel('Price($)')\n",
    "\n",
    "ax[1].xaxis.set_major_locator(mdates.DayLocator(interval=2))\n",
    "ax[1].set_ylabel('Volume')\n",
    "ax[1].set_xlabel('Date')\n",
    "\n",
    "plt.subplots_adjust(hspace=0.0)\n",
    "plt.show()"
   ]
  },
  {
   "cell_type": "code",
   "execution_count": null,
   "metadata": {},
   "outputs": [],
   "source": [
    "apple_df.Volume.shape\n",
    "# print(len(apple_df.index))"
   ]
  },
  {
   "cell_type": "code",
   "execution_count": null,
   "metadata": {},
   "outputs": [],
   "source": [
    "import yfinance as yf\n",
    "import matplotlib.pyplot as plt\n",
    "import matplotlib.dates as mdates\n",
    "\n",
    "data = yf.download('AAPL', start='2024-01-01', end='2024-12-31')\n",
    "\n",
    "fig, ax = plt.subplots(2, 1, sharex=True, height_ratios=(2, 1))\n",
    "\n",
    "ax[0].plot(data.index, data['Close'].squeeze())\n",
    "ax[1].bar(data.index, data['Volume'].squeeze(), color='orange')\n",
    "\n",
    "ax[0].set_title('AAPL')\n",
    "ax[0].set_ylabel('Price($)')\n",
    "\n",
    "ax[1].xaxis.set_major_locator(mdates.DayLocator(interval=2))\n",
    "ax[1].set_ylabel('Volume')\n",
    "ax[1].set_xlabel('Date')\n",
    "\n",
    "plt.subplots_adjust(hspace=0.0)\n",
    "plt.show()"
   ]
  },
  {
   "cell_type": "code",
   "execution_count": null,
   "metadata": {},
   "outputs": [],
   "source": [
    "appl = yf.Ticker('AAPL')\n",
    "appl.info\n",
    "\n",
    "print(f\"PER: {appl.info['trailingPE']}\")\n",
    "print(f\"EPS: {appl.info['trailingEps']}\")\n",
    "print(f\"PBR: {appl.info['priceToBook']}\")\n",
    "print(f\"ROE: {appl.info['priceToBook']/appl.info['trailingPE']:.3f}\")\n",
    "print(f\"PEG: {appl.info['trailingPegRatio']}\")"
   ]
  },
  {
   "cell_type": "code",
   "execution_count": null,
   "metadata": {},
   "outputs": [],
   "source": [
    "appl = yf.Ticker('AAPL')\n",
    "appl.info"
   ]
  },
  {
   "cell_type": "code",
   "execution_count": null,
   "metadata": {},
   "outputs": [],
   "source": [
    "ticker = 'AAPL'\n",
    "start_date = '2021-01-01'\n",
    "end_date = '2024-12-31'\n",
    "apple_df = yf.download(ticker, start=start_date, end=end_date)\n",
    "\n",
    "daily_return = apple_df['Close'].pct_change().dropna()\n",
    "ret_mean = daily_return.mean()\n",
    "ret_std = daily_return.std()"
   ]
  },
  {
   "cell_type": "code",
   "execution_count": null,
   "metadata": {},
   "outputs": [],
   "source": [
    "fig, ax = plt.subplots(1, 2, figsize=(20, 7))\n",
    "\n",
    "ax[0].plot(apple_df.index, apple_df['Close'].squeeze())\n",
    "ax[0].set_title('Stock Price of AAPL')\n",
    "ax[0].tick_params(axis='x', labelsize=14)\n",
    "ax[0].xaxis.set_major_locator(mdates.MonthLocator(interval=12))\n",
    "\n",
    "ax[1].hist(daily_return, bins=31, edgecolor='black')\n",
    "\n",
    "plt.show()"
   ]
  },
  {
   "cell_type": "code",
   "execution_count": null,
   "metadata": {},
   "outputs": [],
   "source": [
    "import statsmodels.api as sm\n",
    "\n",
    "yesterday_return = daily_return.shift().dropna()\n",
    "today_return = daily_return.iloc[1:].copy()\n",
    "\n",
    "X = yesterday_return.values\n",
    "Y = today_return.values\n",
    "X_const = sm.add_constant(X)\n",
    "\n",
    "model = sm.OLS(Y, X_const).fit()\n",
    "print(model.summary())"
   ]
  },
  {
   "cell_type": "code",
   "execution_count": null,
   "metadata": {},
   "outputs": [],
   "source": [
    "Y_pred = model.predict(X_const)\n",
    "\n",
    "plt.scatter(X, Y, edgecolor='black', linewidth=0.4)\n",
    "plt.plot(X, Y_pred, 'r', alpha=0.8)\n",
    "\n",
    "plt.axhline(y=0, color='black', linewidth=1)\n",
    "plt.axvline(x=0, color='black', linewidth=1)\n",
    "plt.grid(alpha=0.3)\n",
    "plt.show()"
   ]
  },
  {
   "cell_type": "code",
   "execution_count": null,
   "metadata": {},
   "outputs": [],
   "source": []
  }
 ],
 "metadata": {
  "kernelspec": {
   "display_name": "quant",
   "language": "python",
   "name": "python3"
  },
  "language_info": {
   "codemirror_mode": {
    "name": "ipython",
    "version": 3
   },
   "file_extension": ".py",
   "mimetype": "text/x-python",
   "name": "python",
   "nbconvert_exporter": "python",
   "pygments_lexer": "ipython3",
   "version": "3.10.16"
  }
 },
 "nbformat": 4,
 "nbformat_minor": 2
}
